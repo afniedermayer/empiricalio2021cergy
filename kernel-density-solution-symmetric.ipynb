{
 "cells": [
  {
   "cell_type": "markdown",
   "metadata": {},
   "source": [
    "# Kernel Density Estimation: Solution for Exercise 2 Under The Assumption of Symmetry"
   ]
  },
  {
   "cell_type": "markdown",
   "metadata": {},
   "source": [
    "Before running the code, you should install the `sklearn` package. Type in a code cell in the notebook:\n",
    "```\n",
    "!pip install sklearn\n",
    "```"
   ]
  },
  {
   "cell_type": "code",
   "execution_count": 1,
   "metadata": {},
   "outputs": [],
   "source": [
    "from sklearn.neighbors import KernelDensity\n",
    "import numpy as np\n",
    "import matplotlib.pyplot as plt"
   ]
  },
  {
   "cell_type": "code",
   "execution_count": 2,
   "metadata": {},
   "outputs": [],
   "source": [
    "from scipy.stats import norm, uniform"
   ]
  },
  {
   "cell_type": "code",
   "execution_count": 3,
   "metadata": {},
   "outputs": [],
   "source": [
    "from scipy.stats import uniform"
   ]
  },
  {
   "cell_type": "code",
   "execution_count": 4,
   "metadata": {},
   "outputs": [],
   "source": [
    "%matplotlib inline"
   ]
  },
  {
   "cell_type": "code",
   "execution_count": 5,
   "metadata": {},
   "outputs": [],
   "source": [
    "def kde_sklearn(x, x_grid, bandwidth=0.2, kernel='gaussian', **kwargs):\n",
    "    \"\"\"Kernel Density Estimation with Scikit-learn\n",
    "    valid kernels are ['gaussian'|'tophat'|'epanechnikov'|'exponential'|'linear'|'cosine']\n",
    "    the default kernel is 'gaussian'\"\"\"\n",
    "    kde_skl = KernelDensity(bandwidth=bandwidth, kernel=kernel, **kwargs)\n",
    "    kde_skl.fit(x[:, np.newaxis])\n",
    "    # score_samples() returns the log-likelihood of the samples\n",
    "    log_pdf = kde_skl.score_samples(x_grid[:, np.newaxis])\n",
    "    return np.exp(log_pdf)"
   ]
  },
  {
   "cell_type": "code",
   "execution_count": 6,
   "metadata": {},
   "outputs": [],
   "source": [
    "def silverman_rule(x):\n",
    "    # interquartile range\n",
    "    iqr = np.percentile(x,75) - np.percentile(x,25)\n",
    "    # optimal bandwidth\n",
    "    h = 0.9 * min(np.std(x), iqr/1.34) * len(x)**(-0.2)\n",
    "    return h"
   ]
  },
  {
   "cell_type": "code",
   "execution_count": 7,
   "metadata": {},
   "outputs": [],
   "source": [
    "def scott_rule(x):\n",
    "    # interquartile range\n",
    "    iqr = np.percentile(x,75) - np.percentile(x,25)\n",
    "    # optimal bandwidth\n",
    "    h = 1.059 * min(np.std(x), iqr/1.34) * len(x)**(-0.2)\n",
    "    return h"
   ]
  },
  {
   "cell_type": "code",
   "execution_count": 8,
   "metadata": {},
   "outputs": [],
   "source": [
    "from statsmodels.distributions.empirical_distribution import ECDF"
   ]
  },
  {
   "cell_type": "markdown",
   "metadata": {},
   "source": [
    "## Exercise 2"
   ]
  },
  {
   "cell_type": "markdown",
   "metadata": {},
   "source": [
    "Generate random bids from a first-price auction with 2 bidders. Assume that bidders are symmetric and their valuations $V_i$ are drawn from a uniform distribution on $[0,1]$ for $i=1,2$.\n",
    "1. Plot a histogram of the bid distribution.\n",
    "2. Use the Guerre-Perrigne-Vuong estimator to estimate the distribution of pseudo-valuations from the distribution of bids. Plot a histogram of the distribution of pseudo-valuations.\n",
    "3. Construct a kernel density estimator for the distribution of pseudo-valuations. Also compute the empirical cdf."
   ]
  },
  {
   "cell_type": "code",
   "execution_count": 9,
   "metadata": {},
   "outputs": [],
   "source": [
    "n_observations = 10000\n",
    "V1 = np.random.rand(n_observations)\n",
    "V2 = np.random.rand(n_observations)"
   ]
  },
  {
   "cell_type": "code",
   "execution_count": 10,
   "metadata": {},
   "outputs": [],
   "source": [
    "# generate bids from valuations\n",
    "B1 = V1/2\n",
    "B2 = V2/2"
   ]
  },
  {
   "cell_type": "code",
   "execution_count": 11,
   "metadata": {},
   "outputs": [
    {
     "data": {
      "image/png": "[encoded data removed]",
      "text/plain": [
       "<Figure size 432x288 with 2 Axes>"
      ]
     },
     "metadata": {
      "needs_background": "light"
     },
     "output_type": "display_data"
    }
   ],
   "source": [
    "plt.subplot(121)\n",
    "plt.hist(B1)\n",
    "plt.title('histogram $B_1$')\n",
    "plt.subplot(122)\n",
    "plt.hist(B2)\n",
    "plt.title('histogram $B_2$');"
   ]
  },
  {
   "cell_type": "code",
   "execution_count": 12,
   "metadata": {},
   "outputs": [],
   "source": [
    "used_kernel = 'gaussian'"
   ]
  },
  {
   "cell_type": "markdown",
   "metadata": {},
   "source": [
    "In the following estimation, we assume that bidders are symmetric, i.e. $V_1$ and $V_2$ are drawn from the same distribution. We also assume that a symmetric equilibrium is being played, i.e. both bidders bid according to the same bidding function $\\beta(V_i)$.\n",
    "\n",
    "Estimate density of all bids, evaluated at points B1, \n",
    "i.e. pdf($B_{1,i}$) for i=1,...,n_observations"
   ]
  },
  {
   "cell_type": "code",
   "execution_count": 13,
   "metadata": {},
   "outputs": [],
   "source": [
    "all_bids = np.hstack((B1,B2))"
   ]
  },
  {
   "cell_type": "code",
   "execution_count": 14,
   "metadata": {},
   "outputs": [],
   "source": [
    "pdf_B1 = kde_sklearn(all_bids, B1, bandwidth=scott_rule(all_bids), \n",
    "                     kernel=used_kernel)"
   ]
  },
  {
   "cell_type": "markdown",
   "metadata": {},
   "source": [
    "Estimate cdf of all bids, evaluated at points B1"
   ]
  },
  {
   "cell_type": "code",
   "execution_count": 15,
   "metadata": {},
   "outputs": [],
   "source": [
    "cdf_B1 = ECDF(all_bids)(B1)"
   ]
  },
  {
   "cell_type": "markdown",
   "metadata": {},
   "source": [
    "Estimate density and cdf of all bids evaluated at points B2"
   ]
  },
  {
   "cell_type": "code",
   "execution_count": 16,
   "metadata": {},
   "outputs": [],
   "source": [
    "pdf_B2 = kde_sklearn(all_bids, B2, bandwidth=scott_rule(all_bids), \n",
    "                     kernel=used_kernel)\n",
    "cdf_B2 = ECDF(all_bids)(B2)"
   ]
  },
  {
   "cell_type": "markdown",
   "metadata": {},
   "source": [
    "Plot estimated densities and cdfs"
   ]
  },
  {
   "cell_type": "code",
   "execution_count": 17,
   "metadata": {},
   "outputs": [
    {
     "data": {
      "image/png": "[encoded data removed]",
      "text/plain": [
       "<Figure size 432x288 with 2 Axes>"
      ]
     },
     "metadata": {
      "needs_background": "light"
     },
     "output_type": "display_data"
    }
   ],
   "source": [
    "plt.subplot(121)\n",
    "plt.plot(np.hstack((B1,B2)), np.hstack((pdf_B1, pdf_B2)), '.')\n",
    "plt.title('estimated density of bids')\n",
    "plt.subplot(122)\n",
    "plt.plot(np.hstack((B1,B2)), np.hstack((cdf_B1, cdf_B2)), '.')\n",
    "plt.title('estimated cdf of bids')\n",
    "plt.tight_layout();"
   ]
  },
  {
   "cell_type": "markdown",
   "metadata": {},
   "source": [
    "Compute pseudo-valuations $\\hat V_{1,i}$ and $\\hat V_{2,i}$ for i=1,...,n_observations"
   ]
  },
  {
   "cell_type": "code",
   "execution_count": 18,
   "metadata": {},
   "outputs": [],
   "source": [
    "V1hat = B1 + cdf_B1/pdf_B1\n",
    "V2hat = B2 + cdf_B2/pdf_B2"
   ]
  },
  {
   "cell_type": "code",
   "execution_count": 19,
   "metadata": {},
   "outputs": [
    {
     "data": {
      "image/png": "[encoded data removed]",
      "text/plain": [
       "<Figure size 432x288 with 2 Axes>"
      ]
     },
     "metadata": {
      "needs_background": "light"
     },
     "output_type": "display_data"
    }
   ],
   "source": [
    "plt.subplot(121)\n",
    "plt.hist(V1hat)\n",
    "plt.title('V1hat')\n",
    "plt.subplot(122)\n",
    "plt.hist(V2hat)\n",
    "plt.title('V2hat')\n",
    "plt.tight_layout();"
   ]
  },
  {
   "cell_type": "code",
   "execution_count": 20,
   "metadata": {},
   "outputs": [],
   "source": [
    "v_grid = np.linspace(-.5,1.5,1000)"
   ]
  },
  {
   "cell_type": "markdown",
   "metadata": {},
   "source": [
    "Estimate density and cdf of $\\hat V_1$"
   ]
  },
  {
   "cell_type": "code",
   "execution_count": 21,
   "metadata": {},
   "outputs": [],
   "source": [
    "pdf1hat = kde_sklearn(V1hat, v_grid, bandwidth=scott_rule(V1hat), kernel=used_kernel)\n",
    "cdf1hat = ECDF(V1hat)(v_grid)"
   ]
  },
  {
   "cell_type": "markdown",
   "metadata": {},
   "source": [
    "Estimate density and cdf of $\\hat V_2$"
   ]
  },
  {
   "cell_type": "code",
   "execution_count": 22,
   "metadata": {},
   "outputs": [],
   "source": [
    "pdf2hat = kde_sklearn(V2hat, v_grid, bandwidth=scott_rule(V2hat), kernel=used_kernel)\n",
    "cdf2hat = ECDF(V2hat)(v_grid)"
   ]
  },
  {
   "cell_type": "markdown",
   "metadata": {},
   "source": [
    "Plot estimated densities and cdfs of $\\hat V_1$ and $\\hat V_2$"
   ]
  },
  {
   "cell_type": "code",
   "execution_count": 23,
   "metadata": {},
   "outputs": [
    {
     "data": {
      "image/png": "[encoded data removed]",
      "text/plain": [
       "<Figure size 432x288 with 4 Axes>"
      ]
     },
     "metadata": {
      "needs_background": "light"
     },
     "output_type": "display_data"
    }
   ],
   "source": [
    "plt.subplot(221)\n",
    "plt.plot(v_grid, pdf1hat, label='estimated')\n",
    "plt.plot(v_grid, uniform.pdf(v_grid), label='true density', linestyle='--')\n",
    "plt.legend()\n",
    "plt.title('density $\\\\hat V_1$')\n",
    "plt.subplot(222)\n",
    "plt.plot(v_grid, pdf2hat, label='estimated')\n",
    "plt.plot(v_grid, uniform.pdf(v_grid), label='true density', linestyle='--')\n",
    "plt.legend()\n",
    "plt.title('density $\\\\hat V_2$')\n",
    "plt.subplot(223)\n",
    "plt.plot(v_grid, cdf1hat, label='estimated')\n",
    "plt.plot(v_grid, uniform.cdf(v_grid), label='true cdf', linestyle='--')\n",
    "plt.legend()\n",
    "plt.title('cdf $\\\\hat V_1$')\n",
    "plt.subplot(224)\n",
    "plt.plot(v_grid, cdf2hat, label='estimated')\n",
    "plt.plot(v_grid, uniform.cdf(v_grid), label='true cdf', linestyle='--')\n",
    "plt.legend()\n",
    "plt.title('cdf $\\\\hat V_2$')\n",
    "plt.tight_layout();"
   ]
  },
  {
   "cell_type": "code",
   "execution_count": null,
   "metadata": {},
   "outputs": [],
   "source": []
  }
 ],
 "metadata": {
  "@webio": {
   "lastCommId": null,
   "lastKernelId": null
  },
  "kernelspec": {
   "display_name": "Python 3",
   "language": "python",
   "name": "python3"
  },
  "language_info": {
   "codemirror_mode": {
    "name": "ipython",
    "version": 3
   },
   "file_extension": ".py",
   "mimetype": "text/x-python",
   "name": "python",
   "nbconvert_exporter": "python",
   "pygments_lexer": "ipython3",
   "version": "3.7.6"
  }
 },
 "nbformat": 4,
 "nbformat_minor": 4
}
